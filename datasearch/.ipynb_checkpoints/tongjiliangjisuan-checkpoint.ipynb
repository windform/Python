{
 "cells": [
  {
   "cell_type": "code",
   "execution_count": 1,
   "metadata": {
    "collapsed": true
   },
   "outputs": [],
   "source": [
    "#统计量分析代码\n",
    "from __future__ import print_function\n",
    "import pandas as pd"
   ]
  },
  {
   "cell_type": "code",
   "execution_count": 2,
   "metadata": {
    "collapsed": true
   },
   "outputs": [],
   "source": [
    "catering_sale = './catering_sale.xls'\n",
    "#读取数据，指定“日期”为索引列\n",
    "data = pd.read_excel(catering_sale, index_col=u'日期')\n",
    "#过滤异常数据\n",
    "data = data[(data[u'销量'] > 400) & (data[u'销量'] < 5000)]\n",
    "#保存基本统计量\n",
    "statistics = data.describe()"
   ]
  },
  {
   "cell_type": "code",
   "execution_count": 3,
   "metadata": {
    "collapsed": false
   },
   "outputs": [
    {
     "name": "stdout",
     "output_type": "stream",
     "text": [
      "                销量\n",
      "count   195.000000\n",
      "mean   2744.595385\n",
      "std     424.739407\n",
      "min     865.000000\n",
      "25%    2460.600000\n",
      "50%    2655.900000\n",
      "75%    3023.200000\n",
      "max    4065.200000\n"
     ]
    }
   ],
   "source": [
    "print(statistics)"
   ]
  },
  {
   "cell_type": "code",
   "execution_count": 4,
   "metadata": {
    "collapsed": true
   },
   "outputs": [],
   "source": [
    "#极差\n",
    "statistics.loc['range'] = statistics.loc['max'] - statistics.loc['min']\n",
    "#变异系数\n",
    "statistics.loc['var'] = statistics.loc['std'] / statistics.loc['mean']\n",
    "#四分位间距\n",
    "statistics.loc['dis'] = statistics.loc['75%'] - statistics.loc['25%']"
   ]
  },
  {
   "cell_type": "code",
   "execution_count": 5,
   "metadata": {
    "collapsed": false
   },
   "outputs": [
    {
     "name": "stdout",
     "output_type": "stream",
     "text": [
      "                销量\n",
      "count   195.000000\n",
      "mean   2744.595385\n",
      "std     424.739407\n",
      "min     865.000000\n",
      "25%    2460.600000\n",
      "50%    2655.900000\n",
      "75%    3023.200000\n",
      "max    4065.200000\n",
      "range  3200.200000\n",
      "var       0.154755\n",
      "dis     562.600000\n"
     ]
    }
   ],
   "source": [
    "print(statistics)"
   ]
  },
  {
   "cell_type": "code",
   "execution_count": null,
   "metadata": {
    "collapsed": true
   },
   "outputs": [],
   "source": []
  }
 ],
 "metadata": {
  "kernelspec": {
   "display_name": "Python [default]",
   "language": "python",
   "name": "python3"
  },
  "language_info": {
   "codemirror_mode": {
    "name": "ipython",
    "version": 3
   },
   "file_extension": ".py",
   "mimetype": "text/x-python",
   "name": "python",
   "nbconvert_exporter": "python",
   "pygments_lexer": "ipython3",
   "version": "3.5.2"
  }
 },
 "nbformat": 4,
 "nbformat_minor": 1
}
