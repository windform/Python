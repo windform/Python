{
 "cells": [
  {
   "cell_type": "code",
   "execution_count": 1,
   "metadata": {
    "collapsed": true
   },
   "outputs": [],
   "source": [
    "#帕累托图 检测贡献度\n",
    "from __future__ import print_function\n",
    "import pandas as pd"
   ]
  },
  {
   "cell_type": "code",
   "execution_count": 2,
   "metadata": {
    "collapsed": false
   },
   "outputs": [
    {
     "name": "stderr",
     "output_type": "stream",
     "text": [
      "C:\\Users\\whiteblue\\Anaconda3\\lib\\site-packages\\ipykernel\\__main__.py:5: FutureWarning: sort is deprecated, use sort_values(inplace=True) for INPLACE sorting\n"
     ]
    }
   ],
   "source": [
    "#初始化参数\n",
    "dish_profit = './catering_dish_profit.xls'\n",
    "data = pd.read_excel(dish_profit, index_col=u'菜品名')\n",
    "data = data[u'盈利'].copy()\n",
    "data.sort(ascending=False)"
   ]
  },
  {
   "cell_type": "code",
   "execution_count": 3,
   "metadata": {
    "collapsed": true
   },
   "outputs": [],
   "source": [
    "#导入图像库\n",
    "import matplotlib.pyplot as plt\n",
    "#用来正常显示中文标签\n",
    "plt.rcParams['font.sans-serif'] = ['SimHei']\n",
    "#用来正常显示负数\n",
    "plt.rcParams['axes.unicode_minus'] = False"
   ]
  },
  {
   "cell_type": "code",
   "execution_count": 6,
   "metadata": {
    "collapsed": false
   },
   "outputs": [
    {
     "data": {
      "image/png": "[encoded data removed]",
      "text/plain": [
       "<matplotlib.figure.Figure at 0x847fef0>"
      ]
     },
     "metadata": {},
     "output_type": "display_data"
    }
   ],
   "source": [
    "plt.figure()\n",
    "data.plot(kind='bar')\n",
    "plt.ylabel(u'盈利（元）')\n",
    "p = 1.0 * data.cumsum() / data.sum()\n",
    "p.plot(color='r', secondary_y = True, style='-o', linewidth=2)\n",
    "plt.annotate(format(p[6], '.4%'),xy=(6,p[6]),xytext=(6*0.9,p[6]*0.9),arrowprops=dict(arrowstyle=\"->\",connectionstyle=\"arc3,rad=.2\"))\n",
    "plt.ylabel(u'盈利（比例）')\n",
    "plt.show()"
   ]
  },
  {
   "cell_type": "code",
   "execution_count": 7,
   "metadata": {
    "collapsed": true
   },
   "outputs": [],
   "source": [
    "#餐饮销量相关性分析\n",
    "catering_sale = './catering_sale_all.xls'\n",
    "data1 = pd.read_excel(catering_sale, index_col=u'日期')"
   ]
  },
  {
   "cell_type": "code",
   "execution_count": 13,
   "metadata": {
    "collapsed": false
   },
   "outputs": [
    {
     "data": {
      "text/html": [
       "<div>\n",
       "<table border=\"1\" class=\"dataframe\">\n",
       "  <thead>\n",
       "    <tr style=\"text-align: right;\">\n",
       "      <th></th>\n",
       "      <th>百合酱蒸凤爪</th>\n",
       "      <th>翡翠蒸香茜饺</th>\n",
       "      <th>金银蒜汁蒸排骨</th>\n",
       "      <th>乐膳真味鸡</th>\n",
       "      <th>蜜汁焗餐包</th>\n",
       "      <th>生炒菜心</th>\n",
       "      <th>铁板酸菜豆腐</th>\n",
       "      <th>香煎韭菜饺</th>\n",
       "      <th>香煎罗卜糕</th>\n",
       "      <th>原汁原味菜心</th>\n",
       "    </tr>\n",
       "  </thead>\n",
       "  <tbody>\n",
       "    <tr>\n",
       "      <th>百合酱蒸凤爪</th>\n",
       "      <td>1.000000</td>\n",
       "      <td>0.009206</td>\n",
       "      <td>0.016799</td>\n",
       "      <td>0.455638</td>\n",
       "      <td>0.098085</td>\n",
       "      <td>0.308496</td>\n",
       "      <td>0.204898</td>\n",
       "      <td>0.127448</td>\n",
       "      <td>-0.090276</td>\n",
       "      <td>0.428316</td>\n",
       "    </tr>\n",
       "    <tr>\n",
       "      <th>翡翠蒸香茜饺</th>\n",
       "      <td>0.009206</td>\n",
       "      <td>1.000000</td>\n",
       "      <td>0.304434</td>\n",
       "      <td>-0.012279</td>\n",
       "      <td>0.058745</td>\n",
       "      <td>-0.180446</td>\n",
       "      <td>-0.026908</td>\n",
       "      <td>0.062344</td>\n",
       "      <td>0.270276</td>\n",
       "      <td>0.020462</td>\n",
       "    </tr>\n",
       "    <tr>\n",
       "      <th>金银蒜汁蒸排骨</th>\n",
       "      <td>0.016799</td>\n",
       "      <td>0.304434</td>\n",
       "      <td>1.000000</td>\n",
       "      <td>0.035135</td>\n",
       "      <td>0.096218</td>\n",
       "      <td>-0.184290</td>\n",
       "      <td>0.187272</td>\n",
       "      <td>0.121543</td>\n",
       "      <td>0.077808</td>\n",
       "      <td>0.029074</td>\n",
       "    </tr>\n",
       "    <tr>\n",
       "      <th>乐膳真味鸡</th>\n",
       "      <td>0.455638</td>\n",
       "      <td>-0.012279</td>\n",
       "      <td>0.035135</td>\n",
       "      <td>1.000000</td>\n",
       "      <td>0.016006</td>\n",
       "      <td>0.325462</td>\n",
       "      <td>0.297692</td>\n",
       "      <td>-0.068866</td>\n",
       "      <td>-0.030222</td>\n",
       "      <td>0.421878</td>\n",
       "    </tr>\n",
       "    <tr>\n",
       "      <th>蜜汁焗餐包</th>\n",
       "      <td>0.098085</td>\n",
       "      <td>0.058745</td>\n",
       "      <td>0.096218</td>\n",
       "      <td>0.016006</td>\n",
       "      <td>1.000000</td>\n",
       "      <td>0.308454</td>\n",
       "      <td>0.502025</td>\n",
       "      <td>0.155428</td>\n",
       "      <td>0.171005</td>\n",
       "      <td>0.527844</td>\n",
       "    </tr>\n",
       "    <tr>\n",
       "      <th>生炒菜心</th>\n",
       "      <td>0.308496</td>\n",
       "      <td>-0.180446</td>\n",
       "      <td>-0.184290</td>\n",
       "      <td>0.325462</td>\n",
       "      <td>0.308454</td>\n",
       "      <td>1.000000</td>\n",
       "      <td>0.369787</td>\n",
       "      <td>0.038233</td>\n",
       "      <td>0.049898</td>\n",
       "      <td>0.122988</td>\n",
       "    </tr>\n",
       "    <tr>\n",
       "      <th>铁板酸菜豆腐</th>\n",
       "      <td>0.204898</td>\n",
       "      <td>-0.026908</td>\n",
       "      <td>0.187272</td>\n",
       "      <td>0.297692</td>\n",
       "      <td>0.502025</td>\n",
       "      <td>0.369787</td>\n",
       "      <td>1.000000</td>\n",
       "      <td>0.095543</td>\n",
       "      <td>0.157958</td>\n",
       "      <td>0.567332</td>\n",
       "    </tr>\n",
       "    <tr>\n",
       "      <th>香煎韭菜饺</th>\n",
       "      <td>0.127448</td>\n",
       "      <td>0.062344</td>\n",
       "      <td>0.121543</td>\n",
       "      <td>-0.068866</td>\n",
       "      <td>0.155428</td>\n",
       "      <td>0.038233</td>\n",
       "      <td>0.095543</td>\n",
       "      <td>1.000000</td>\n",
       "      <td>0.178336</td>\n",
       "      <td>0.049689</td>\n",
       "    </tr>\n",
       "    <tr>\n",
       "      <th>香煎罗卜糕</th>\n",
       "      <td>-0.090276</td>\n",
       "      <td>0.270276</td>\n",
       "      <td>0.077808</td>\n",
       "      <td>-0.030222</td>\n",
       "      <td>0.171005</td>\n",
       "      <td>0.049898</td>\n",
       "      <td>0.157958</td>\n",
       "      <td>0.178336</td>\n",
       "      <td>1.000000</td>\n",
       "      <td>0.088980</td>\n",
       "    </tr>\n",
       "    <tr>\n",
       "      <th>原汁原味菜心</th>\n",
       "      <td>0.428316</td>\n",
       "      <td>0.020462</td>\n",
       "      <td>0.029074</td>\n",
       "      <td>0.421878</td>\n",
       "      <td>0.527844</td>\n",
       "      <td>0.122988</td>\n",
       "      <td>0.567332</td>\n",
       "      <td>0.049689</td>\n",
       "      <td>0.088980</td>\n",
       "      <td>1.000000</td>\n",
       "    </tr>\n",
       "  </tbody>\n",
       "</table>\n",
       "</div>"
      ],
      "text/plain": [
       "           百合酱蒸凤爪    翡翠蒸香茜饺   金银蒜汁蒸排骨     乐膳真味鸡     蜜汁焗餐包      生炒菜心    铁板酸菜豆腐  \\\n",
       "百合酱蒸凤爪   1.000000  0.009206  0.016799  0.455638  0.098085  0.308496  0.204898   \n",
       "翡翠蒸香茜饺   0.009206  1.000000  0.304434 -0.012279  0.058745 -0.180446 -0.026908   \n",
       "金银蒜汁蒸排骨  0.016799  0.304434  1.000000  0.035135  0.096218 -0.184290  0.187272   \n",
       "乐膳真味鸡    0.455638 -0.012279  0.035135  1.000000  0.016006  0.325462  0.297692   \n",
       "蜜汁焗餐包    0.098085  0.058745  0.096218  0.016006  1.000000  0.308454  0.502025   \n",
       "生炒菜心     0.308496 -0.180446 -0.184290  0.325462  0.308454  1.000000  0.369787   \n",
       "铁板酸菜豆腐   0.204898 -0.026908  0.187272  0.297692  0.502025  0.369787  1.000000   \n",
       "香煎韭菜饺    0.127448  0.062344  0.121543 -0.068866  0.155428  0.038233  0.095543   \n",
       "香煎罗卜糕   -0.090276  0.270276  0.077808 -0.030222  0.171005  0.049898  0.157958   \n",
       "原汁原味菜心   0.428316  0.020462  0.029074  0.421878  0.527844  0.122988  0.567332   \n",
       "\n",
       "            香煎韭菜饺     香煎罗卜糕    原汁原味菜心  \n",
       "百合酱蒸凤爪   0.127448 -0.090276  0.428316  \n",
       "翡翠蒸香茜饺   0.062344  0.270276  0.020462  \n",
       "金银蒜汁蒸排骨  0.121543  0.077808  0.029074  \n",
       "乐膳真味鸡   -0.068866 -0.030222  0.421878  \n",
       "蜜汁焗餐包    0.155428  0.171005  0.527844  \n",
       "生炒菜心     0.038233  0.049898  0.122988  \n",
       "铁板酸菜豆腐   0.095543  0.157958  0.567332  \n",
       "香煎韭菜饺    1.000000  0.178336  0.049689  \n",
       "香煎罗卜糕    0.178336  1.000000  0.088980  \n",
       "原汁原味菜心   0.049689  0.088980  1.000000  "
      ]
     },
     "execution_count": 13,
     "metadata": {},
     "output_type": "execute_result"
    }
   ],
   "source": [
    "#相关系数矩阵，即给出任意两款菜式之间的相关系数\n",
    "data1.corr()"
   ]
  },
  {
   "cell_type": "code",
   "execution_count": null,
   "metadata": {
    "collapsed": true
   },
   "outputs": [],
   "source": []
  },
  {
   "cell_type": "code",
   "execution_count": 14,
   "metadata": {
    "collapsed": false
   },
   "outputs": [
    {
     "data": {
      "text/plain": [
       "百合酱蒸凤爪     1.000000\n",
       "翡翠蒸香茜饺     0.009206\n",
       "金银蒜汁蒸排骨    0.016799\n",
       "乐膳真味鸡      0.455638\n",
       "蜜汁焗餐包      0.098085\n",
       "生炒菜心       0.308496\n",
       "铁板酸菜豆腐     0.204898\n",
       "香煎韭菜饺      0.127448\n",
       "香煎罗卜糕     -0.090276\n",
       "原汁原味菜心     0.428316\n",
       "Name: 百合酱蒸凤爪, dtype: float64"
      ]
     },
     "execution_count": 14,
     "metadata": {},
     "output_type": "execute_result"
    }
   ],
   "source": [
    "#只显示“百合酱蒸凤爪”与其他菜式的相关系数\n",
    "data1.corr() [u'百合酱蒸凤爪']"
   ]
  },
  {
   "cell_type": "code",
   "execution_count": null,
   "metadata": {
    "collapsed": true
   },
   "outputs": [],
   "source": []
  },
  {
   "cell_type": "code",
   "execution_count": 15,
   "metadata": {
    "collapsed": false
   },
   "outputs": [
    {
     "data": {
      "text/plain": [
       "0.0092058030518365076"
      ]
     },
     "execution_count": 15,
     "metadata": {},
     "output_type": "execute_result"
    }
   ],
   "source": [
    "data1[u'百合酱蒸凤爪'].corr(data1[u'翡翠蒸香茜饺'])"
   ]
  },
  {
   "cell_type": "code",
   "execution_count": null,
   "metadata": {
    "collapsed": true
   },
   "outputs": [],
   "source": []
  },
  {
   "cell_type": "code",
   "execution_count": null,
   "metadata": {
    "collapsed": true
   },
   "outputs": [],
   "source": []
  },
  {
   "cell_type": "code",
   "execution_count": null,
   "metadata": {
    "collapsed": true
   },
   "outputs": [],
   "source": []
  },
  {
   "cell_type": "code",
   "execution_count": null,
   "metadata": {
    "collapsed": true
   },
   "outputs": [],
   "source": []
  },
  {
   "cell_type": "code",
   "execution_count": null,
   "metadata": {
    "collapsed": true
   },
   "outputs": [],
   "source": []
  },
  {
   "cell_type": "code",
   "execution_count": null,
   "metadata": {
    "collapsed": true
   },
   "outputs": [],
   "source": []
  }
 ],
 "metadata": {
  "kernelspec": {
   "display_name": "Python [default]",
   "language": "python",
   "name": "python3"
  },
  "language_info": {
   "codemirror_mode": {
    "name": "ipython",
    "version": 3
   },
   "file_extension": ".py",
   "mimetype": "text/x-python",
   "name": "python",
   "nbconvert_exporter": "python",
   "pygments_lexer": "ipython3",
   "version": "3.5.2"
  }
 },
 "nbformat": 4,
 "nbformat_minor": 1
}
